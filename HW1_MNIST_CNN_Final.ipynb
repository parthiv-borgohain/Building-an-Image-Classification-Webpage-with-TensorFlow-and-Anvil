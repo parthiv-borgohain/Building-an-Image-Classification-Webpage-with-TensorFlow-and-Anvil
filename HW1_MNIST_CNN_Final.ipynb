{
  "cells": [
    {
      "cell_type": "markdown",
      "source": [
        "## Optimization Project\n",
        "\n",
        "Team Members:\n",
        "\n",
        "1.   Parthiv Borgohain (pb25347)\n",
        "2.   Kai Zhang\n",
        "\n"
      ],
      "metadata": {
        "id": "4vrpadQobX7P"
      }
    },
    {
      "cell_type": "code",
      "execution_count": 28,
      "metadata": {
        "id": "WJ0oSikkCagm"
      },
      "outputs": [],
      "source": [
        "import tensorflow as tf\n",
        "import numpy as np\n",
        "import matplotlib.pyplot as plt\n",
        "import keras\n",
        "%matplotlib inline\n"
      ]
    },
    {
      "cell_type": "code",
      "execution_count": 29,
      "metadata": {
        "id": "cC90Zc1JCag0"
      },
      "outputs": [],
      "source": [
        "mnist = tf.keras.datasets.mnist\n",
        "\n",
        "(x_train, y_train),(x_test, y_test) = mnist.load_data()   #x 28x28 matrix,each number is 1-256, y=1-10\n",
        "x_train, x_test = x_train / 255.0, x_test / 255.0       #normalize each into a 0-1 scale\n",
        "\n",
        "ndata_train = x_train.shape[0]\n",
        "ndata_test = x_test.shape[0]\n"
      ]
    },
    {
      "cell_type": "code",
      "execution_count": 30,
      "metadata": {
        "id": "WLk18_VGCag4"
      },
      "outputs": [],
      "source": [
        "x_train = x_train.reshape((ndata_train,28,28,1))\n",
        "x_test = x_test.reshape((ndata_test,28,28,1))\n",
        "\n",
        "\n",
        "xshape = x_train.shape[1:4]\n",
        "\n"
      ]
    },
    {
      "cell_type": "code",
      "execution_count": 31,
      "metadata": {
        "colab": {
          "base_uri": "https://localhost:8080/"
        },
        "id": "NS1igV68xiUZ",
        "outputId": "3a1375f8-e96c-4cb6-fbba-93939e462306"
      },
      "outputs": [
        {
          "output_type": "execute_result",
          "data": {
            "text/plain": [
              "(28, 28, 1)"
            ]
          },
          "metadata": {},
          "execution_count": 31
        }
      ],
      "source": [
        "xshape"
      ]
    },
    {
      "cell_type": "markdown",
      "metadata": {
        "id": "H1q-vun01JGl"
      },
      "source": [
        "# Convolutional **Neural Network**\n",
        "\n",
        "After some trial and error, we got the following network which was giving us 99%+ validation accuracy pretty consistently."
      ]
    },
    {
      "cell_type": "code",
      "source": [
        "model = tf.keras.models.Sequential([\n",
        "        tf.keras.layers.Conv2D(filters=32,kernel_size=(5,5),activation=tf.nn.relu,input_shape=xshape),\n",
        "        tf.keras.layers.MaxPooling2D(pool_size = (2,2),strides=2, padding='same'),\n",
        "        tf.keras.layers.Conv2D(filters=64,kernel_size=(3,3),activation=tf.nn.relu),\n",
        "        tf.keras.layers.MaxPooling2D(pool_size = (2,2),strides=2, padding='same'),\n",
        "        tf.keras.layers.Conv2D(filters=128,kernel_size=(3,3),activation=tf.nn.relu),\n",
        "        tf.keras.layers.MaxPooling2D(pool_size = (2,2),strides=2, padding='same'),\n",
        "        tf.keras.layers.Dropout(0.10),\n",
        "        tf.keras.layers.Flatten(),\n",
        "        tf.keras.layers.Dense(256,activation=tf.nn.relu),\n",
        "        tf.keras.layers.Dense(32,activation=tf.nn.relu),\n",
        "        tf.keras.layers.Dense(10,activation=tf.nn.softmax)\n",
        "        ])\n",
        "\n",
        "model.compile(optimizer='adam',\n",
        "              loss='sparse_categorical_crossentropy',\n",
        "              metrics=['accuracy'])\n",
        "\n",
        "model.summary()\n",
        "\n",
        "model.fit(x_train,y_train,epochs=12,validation_split=0.2,batch_size=50) "
      ],
      "metadata": {
        "colab": {
          "base_uri": "https://localhost:8080/"
        },
        "id": "R6bmF6wYcDbE",
        "outputId": "b2b865cd-75d7-4814-dad6-7bcc239c6d93"
      },
      "execution_count": null,
      "outputs": [
        {
          "output_type": "stream",
          "name": "stdout",
          "text": [
            "Model: \"sequential\"\n",
            "_________________________________________________________________\n",
            " Layer (type)                Output Shape              Param #   \n",
            "=================================================================\n",
            " conv2d (Conv2D)             (None, 24, 24, 32)        832       \n",
            "                                                                 \n",
            " max_pooling2d (MaxPooling2D  (None, 12, 12, 32)       0         \n",
            " )                                                               \n",
            "                                                                 \n",
            " conv2d_1 (Conv2D)           (None, 10, 10, 64)        18496     \n",
            "                                                                 \n",
            " max_pooling2d_1 (MaxPooling  (None, 5, 5, 64)         0         \n",
            " 2D)                                                             \n",
            "                                                                 \n",
            " conv2d_2 (Conv2D)           (None, 3, 3, 128)         73856     \n",
            "                                                                 \n",
            " max_pooling2d_2 (MaxPooling  (None, 2, 2, 128)        0         \n",
            " 2D)                                                             \n",
            "                                                                 \n",
            " dropout (Dropout)           (None, 2, 2, 128)         0         \n",
            "                                                                 \n",
            " flatten (Flatten)           (None, 512)               0         \n",
            "                                                                 \n",
            " dense (Dense)               (None, 256)               131328    \n",
            "                                                                 \n",
            " dense_1 (Dense)             (None, 32)                8224      \n",
            "                                                                 \n",
            " dense_2 (Dense)             (None, 10)                330       \n",
            "                                                                 \n",
            "=================================================================\n",
            "Total params: 233,066\n",
            "Trainable params: 233,066\n",
            "Non-trainable params: 0\n",
            "_________________________________________________________________\n",
            "Epoch 1/12\n",
            "960/960 [==============================] - 57s 58ms/step - loss: 0.1959 - accuracy: 0.9382 - val_loss: 0.0629 - val_accuracy: 0.9821\n",
            "Epoch 2/12\n",
            "960/960 [==============================] - 54s 57ms/step - loss: 0.0575 - accuracy: 0.9820 - val_loss: 0.0528 - val_accuracy: 0.9840\n",
            "Epoch 3/12\n",
            "960/960 [==============================] - 53s 55ms/step - loss: 0.0415 - accuracy: 0.9871 - val_loss: 0.0368 - val_accuracy: 0.9891\n",
            "Epoch 4/12\n",
            "960/960 [==============================] - 53s 55ms/step - loss: 0.0312 - accuracy: 0.9906 - val_loss: 0.0438 - val_accuracy: 0.9887\n",
            "Epoch 5/12\n",
            "960/960 [==============================] - 53s 55ms/step - loss: 0.0279 - accuracy: 0.9914 - val_loss: 0.0343 - val_accuracy: 0.9901\n",
            "Epoch 6/12\n",
            "960/960 [==============================] - 53s 55ms/step - loss: 0.0217 - accuracy: 0.9935 - val_loss: 0.0317 - val_accuracy: 0.9911\n",
            "Epoch 7/12\n",
            "960/960 [==============================] - 59s 61ms/step - loss: 0.0203 - accuracy: 0.9932 - val_loss: 0.0549 - val_accuracy: 0.9869\n",
            "Epoch 8/12\n",
            "960/960 [==============================] - 55s 57ms/step - loss: 0.0166 - accuracy: 0.9947 - val_loss: 0.0589 - val_accuracy: 0.9848\n",
            "Epoch 9/12\n",
            "960/960 [==============================] - 53s 55ms/step - loss: 0.0151 - accuracy: 0.9950 - val_loss: 0.0514 - val_accuracy: 0.9874\n",
            "Epoch 10/12\n",
            "960/960 [==============================] - 54s 56ms/step - loss: 0.0154 - accuracy: 0.9950 - val_loss: 0.0439 - val_accuracy: 0.9880\n",
            "Epoch 11/12\n",
            "960/960 [==============================] - 55s 57ms/step - loss: 0.0122 - accuracy: 0.9963 - val_loss: 0.0375 - val_accuracy: 0.9914\n",
            "Epoch 12/12\n",
            "960/960 [==============================] - 54s 56ms/step - loss: 0.0111 - accuracy: 0.9961 - val_loss: 0.0455 - val_accuracy: 0.9910\n"
          ]
        },
        {
          "output_type": "execute_result",
          "data": {
            "text/plain": [
              "<keras.callbacks.History at 0x7f4cf70eceb0>"
            ]
          },
          "metadata": {},
          "execution_count": 7
        }
      ]
    },
    {
      "cell_type": "code",
      "source": [
        "# Training the final model using the complete training dataset as we got >99% accuracy in our inital model fitting\n",
        "model.fit(x_train,y_train,epochs=15,validation_split=0.2,batch_size=100)"
      ],
      "metadata": {
        "colab": {
          "base_uri": "https://localhost:8080/"
        },
        "id": "237Zjcc0cLVQ",
        "outputId": "6ef0168a-f9b4-4eef-d294-353df5f6d309"
      },
      "execution_count": null,
      "outputs": [
        {
          "output_type": "stream",
          "name": "stdout",
          "text": [
            "Epoch 1/15\n",
            "480/480 [==============================] - 49s 101ms/step - loss: 0.0040 - accuracy: 0.9987 - val_loss: 0.0334 - val_accuracy: 0.9927\n",
            "Epoch 2/15\n",
            "480/480 [==============================] - 49s 103ms/step - loss: 0.0021 - accuracy: 0.9994 - val_loss: 0.0389 - val_accuracy: 0.9924\n",
            "Epoch 3/15\n",
            "480/480 [==============================] - 49s 102ms/step - loss: 0.0030 - accuracy: 0.9991 - val_loss: 0.0426 - val_accuracy: 0.9931\n",
            "Epoch 4/15\n",
            "480/480 [==============================] - 48s 101ms/step - loss: 0.0060 - accuracy: 0.9979 - val_loss: 0.0390 - val_accuracy: 0.9927\n",
            "Epoch 5/15\n",
            "480/480 [==============================] - 48s 101ms/step - loss: 0.0048 - accuracy: 0.9983 - val_loss: 0.0404 - val_accuracy: 0.9929\n",
            "Epoch 6/15\n",
            "480/480 [==============================] - 49s 102ms/step - loss: 0.0044 - accuracy: 0.9985 - val_loss: 0.0443 - val_accuracy: 0.9915\n",
            "Epoch 7/15\n",
            "480/480 [==============================] - 50s 103ms/step - loss: 0.0054 - accuracy: 0.9982 - val_loss: 0.0494 - val_accuracy: 0.9908\n",
            "Epoch 8/15\n",
            "480/480 [==============================] - 49s 102ms/step - loss: 0.0038 - accuracy: 0.9989 - val_loss: 0.0364 - val_accuracy: 0.9933\n",
            "Epoch 9/15\n",
            "480/480 [==============================] - 48s 101ms/step - loss: 0.0033 - accuracy: 0.9990 - val_loss: 0.0557 - val_accuracy: 0.9907\n",
            "Epoch 10/15\n",
            "480/480 [==============================] - 48s 100ms/step - loss: 0.0060 - accuracy: 0.9982 - val_loss: 0.0423 - val_accuracy: 0.9923\n",
            "Epoch 11/15\n",
            "480/480 [==============================] - 48s 101ms/step - loss: 0.0029 - accuracy: 0.9990 - val_loss: 0.0469 - val_accuracy: 0.9911\n",
            "Epoch 12/15\n",
            "480/480 [==============================] - 49s 103ms/step - loss: 0.0039 - accuracy: 0.9986 - val_loss: 0.0514 - val_accuracy: 0.9912\n",
            "Epoch 13/15\n",
            "480/480 [==============================] - 49s 101ms/step - loss: 0.0056 - accuracy: 0.9985 - val_loss: 0.0430 - val_accuracy: 0.9918\n",
            "Epoch 14/15\n",
            "480/480 [==============================] - 49s 102ms/step - loss: 0.0041 - accuracy: 0.9987 - val_loss: 0.0450 - val_accuracy: 0.9925\n",
            "Epoch 15/15\n",
            "480/480 [==============================] - 52s 109ms/step - loss: 0.0026 - accuracy: 0.9992 - val_loss: 0.0461 - val_accuracy: 0.9930\n"
          ]
        },
        {
          "output_type": "execute_result",
          "data": {
            "text/plain": [
              "<keras.callbacks.History at 0x7f4cf7164340>"
            ]
          },
          "metadata": {},
          "execution_count": 8
        }
      ]
    },
    {
      "cell_type": "code",
      "execution_count": 33,
      "metadata": {
        "colab": {
          "base_uri": "https://localhost:8080/"
        },
        "id": "jHJL_Z56Dfp_",
        "outputId": "56d82faa-1ebf-4cbf-be20-69295326ec54"
      },
      "outputs": [
        {
          "output_type": "stream",
          "name": "stdout",
          "text": [
            "313/313 [==============================] - 4s 11ms/step\n",
            "Accuracy on Test Dataset 99.28 %\n"
          ]
        }
      ],
      "source": [
        "# predicted probabilities for test data\n",
        "y_test_prob = model.predict(x_test)\n",
        "\n",
        "# inal prediction\n",
        "y_test_pred = y_test_prob.argmax(axis=1)\n",
        "\n",
        "from sklearn.metrics import accuracy_score\n",
        "print('Accuracy on Test Dataset', round(100*accuracy_score(y_test, y_test_pred), 2), '%')\n"
      ]
    },
    {
      "cell_type": "code",
      "execution_count": 34,
      "metadata": {
        "colab": {
          "base_uri": "https://localhost:8080/"
        },
        "id": "YkdlAs_4CahZ",
        "outputId": "3ac5e205-85d2-4dcc-cfa2-5acb0855d44c"
      },
      "outputs": [
        {
          "output_type": "stream",
          "name": "stdout",
          "text": [
            "313/313 [==============================] - 3s 11ms/step\n",
            "0.9928\n"
          ]
        }
      ],
      "source": [
        "pred_probs2 = model.predict(x_test)\n",
        "pred2 = np.argmax(pred_probs2, axis=1)\n",
        "print(np.mean(pred2==y_test))"
      ]
    },
    {
      "cell_type": "markdown",
      "source": [
        "So, we have attained final **validation accuracy of about 99.30%** and **test accuracy of 99.28%**. This seems to be like a fairly robust model after lots of training."
      ],
      "metadata": {
        "id": "RMwD3DwJhhue"
      }
    },
    {
      "cell_type": "code",
      "execution_count": null,
      "metadata": {
        "id": "4xdrztooCaha"
      },
      "outputs": [],
      "source": [
        "# Saving Model\n",
        "model.save(\"final_CNN_model.h5\")"
      ]
    },
    {
      "cell_type": "code",
      "source": [
        "# classification report summary\n",
        "from sklearn.metrics import classification_report\n",
        "print(classification_report(y_test, y_test_pred))"
      ],
      "metadata": {
        "id": "Hgw30lM_qVo9",
        "colab": {
          "base_uri": "https://localhost:8080/"
        },
        "outputId": "940ab71f-6f6d-4dda-cd14-28aad824d9f3"
      },
      "execution_count": 35,
      "outputs": [
        {
          "output_type": "stream",
          "name": "stdout",
          "text": [
            "              precision    recall  f1-score   support\n",
            "\n",
            "           0       0.99      1.00      0.99       980\n",
            "           1       1.00      0.99      0.99      1135\n",
            "           2       0.99      0.99      0.99      1032\n",
            "           3       0.99      1.00      0.99      1010\n",
            "           4       0.99      1.00      0.99       982\n",
            "           5       0.99      0.99      0.99       892\n",
            "           6       1.00      0.99      0.99       958\n",
            "           7       0.99      0.99      0.99      1028\n",
            "           8       0.99      1.00      1.00       974\n",
            "           9       0.99      0.99      0.99      1009\n",
            "\n",
            "    accuracy                           0.99     10000\n",
            "   macro avg       0.99      0.99      0.99     10000\n",
            "weighted avg       0.99      0.99      0.99     10000\n",
            "\n"
          ]
        }
      ]
    },
    {
      "cell_type": "code",
      "source": [
        "# confusion matrix to identify common misclassification\n",
        "from sklearn.metrics import confusion_matrix, ConfusionMatrixDisplay\n",
        "\n",
        "cm = confusion_matrix(y_test, y_test_pred)\n",
        "d_cm = ConfusionMatrixDisplay(confusion_matrix=cm)\n",
        "d_cm.plot(cmap=\"inferno\")\n",
        "plt.show()"
      ],
      "metadata": {
        "colab": {
          "base_uri": "https://localhost:8080/",
          "height": 279
        },
        "id": "Gon7Ay8_gNZO",
        "outputId": "e7736952-b7d8-418b-e7fb-a1a98a3e17ee"
      },
      "execution_count": 36,
      "outputs": [
        {
          "output_type": "display_data",
          "data": {
            "text/plain": [
              "<Figure size 432x288 with 2 Axes>"
            ],
            "image/png": "[encoded data removed]"
          },
          "metadata": {
            "needs_background": "light"
          }
        }
      ]
    },
    {
      "cell_type": "code",
      "source": [
        "# getting most misclassified label for each number\n",
        "most_misclassified = cm.argsort()[:, -2]\n",
        "\n",
        "# combining actual and predicted into df\n",
        "prediction = pd.DataFrame({'y_test': y_test, 'y_test_pred': y_test_pred})\n",
        "\n",
        "# visualizing common misclassification\n",
        "for i in range(10):\n",
        "  try:\n",
        "    idx = prediction.query('y_test == {}'.format(i)).\\\n",
        "      query('y_test_pred == {}'.format(most_misclassified[i])).index.values[0]\n",
        "  except:\n",
        "    print('No misclassification for number: ', i)\n",
        "    continue\n",
        "\n",
        "  plt.title('Actual Class: {} Predicted Class: {}'.format(i, most_misclassified[i]))\n",
        "  plt.imshow(1-x_test[idx, :, :, 0],cmap='gray')\n",
        "  plt.show()"
      ],
      "metadata": {
        "colab": {
          "base_uri": "https://localhost:8080/",
          "height": 1000
        },
        "id": "lUIsWScZgzX5",
        "outputId": "2920b445-fe43-4786-ea84-5c9f9c507fd8"
      },
      "execution_count": 48,
      "outputs": [
        {
          "output_type": "display_data",
          "data": {
            "text/plain": [
              "<Figure size 432x288 with 1 Axes>"
            ],
            "image/png": "[encoded data removed]"
          },
          "metadata": {
            "needs_background": "light"
          }
        },
        {
          "output_type": "display_data",
          "data": {
            "text/plain": [
              "<Figure size 432x288 with 1 Axes>"
            ],
            "image/png": "[encoded data removed]"
          },
          "metadata": {
            "needs_background": "light"
          }
        },
        {
          "output_type": "display_data",
          "data": {
            "text/plain": [
              "<Figure size 432x288 with 1 Axes>"
            ],
            "image/png": "[encoded data removed]"
          },
          "metadata": {
            "needs_background": "light"
          }
        },
        {
          "output_type": "display_data",
          "data": {
            "text/plain": [
              "<Figure size 432x288 with 1 Axes>"
            ],
            "image/png": "[encoded data removed]"
          },
          "metadata": {
            "needs_background": "light"
          }
        },
        {
          "output_type": "display_data",
          "data": {
            "text/plain": [
              "<Figure size 432x288 with 1 Axes>"
            ],
            "image/png": "[encoded data removed]"
          },
          "metadata": {
            "needs_background": "light"
          }
        },
        {
          "output_type": "display_data",
          "data": {
            "text/plain": [
              "<Figure size 432x288 with 1 Axes>"
            ],
            "image/png": "[encoded data removed]"
          },
          "metadata": {
            "needs_background": "light"
          }
        },
        {
          "output_type": "display_data",
          "data": {
            "text/plain": [
              "<Figure size 432x288 with 1 Axes>"
            ],
            "image/png": "[encoded data removed]"
          },
          "metadata": {
            "needs_background": "light"
          }
        },
        {
          "output_type": "display_data",
          "data": {
            "text/plain": [
              "<Figure size 432x288 with 1 Axes>"
            ],
            "image/png": "[encoded data removed]"
          },
          "metadata": {
            "needs_background": "light"
          }
        },
        {
          "output_type": "display_data",
          "data": {
            "text/plain": [
              "<Figure size 432x288 with 1 Axes>"
            ],
            "image/png": "[encoded data removed]"
          },
          "metadata": {
            "needs_background": "light"
          }
        },
        {
          "output_type": "display_data",
          "data": {
            "text/plain": [
              "<Figure size 432x288 with 1 Axes>"
            ],
            "image/png": "[encoded data removed]"
          },
          "metadata": {
            "needs_background": "light"
          }
        }
      ]
    },
    {
      "cell_type": "code",
      "source": [],
      "metadata": {
        "id": "_sPpiIV1h603"
      },
      "execution_count": null,
      "outputs": []
    }
  ],
  "metadata": {
    "colab": {
      "provenance": []
    },
    "kernelspec": {
      "display_name": "Python 3",
      "language": "python",
      "name": "python3"
    },
    "language_info": {
      "codemirror_mode": {
        "name": "ipython",
        "version": 3
      },
      "file_extension": ".py",
      "mimetype": "text/x-python",
      "name": "python",
      "nbconvert_exporter": "python",
      "pygments_lexer": "ipython3",
      "version": "3.8.8"
    }
  },
  "nbformat": 4,
  "nbformat_minor": 0
}